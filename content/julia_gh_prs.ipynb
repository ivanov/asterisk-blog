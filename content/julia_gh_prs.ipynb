{
 "cells": [
  {
   "cell_type": "code",
   "execution_count": 1,
   "metadata": {},
   "outputs": [],
   "source": [
    "import matplotlib.pyplot as plt\n",
    "%matplotlib inline"
   ]
  },
  {
   "cell_type": "code",
   "execution_count": 2,
   "metadata": {},
   "outputs": [],
   "source": [
    "import pandas as pd"
   ]
  },
  {
   "cell_type": "code",
   "execution_count": 7,
   "metadata": {},
   "outputs": [
    {
     "data": {
      "text/html": [
       "<div>\n",
       "<style scoped>\n",
       "    .dataframe tbody tr th:only-of-type {\n",
       "        vertical-align: middle;\n",
       "    }\n",
       "\n",
       "    .dataframe tbody tr th {\n",
       "        vertical-align: top;\n",
       "    }\n",
       "\n",
       "    .dataframe thead th {\n",
       "        text-align: right;\n",
       "    }\n",
       "</style>\n",
       "<table border=\"1\" class=\"dataframe\">\n",
       "  <thead>\n",
       "    <tr style=\"text-align: right;\">\n",
       "      <th></th>\n",
       "      <th>Year</th>\n",
       "      <th>Quarter</th>\n",
       "      <th>Python</th>\n",
       "      <th>R</th>\n",
       "      <th>Julia</th>\n",
       "    </tr>\n",
       "  </thead>\n",
       "  <tbody>\n",
       "    <tr>\n",
       "      <th>0</th>\n",
       "      <td>2018</td>\n",
       "      <td>4</td>\n",
       "      <td>17.739</td>\n",
       "      <td>0.167</td>\n",
       "      <td>0.093</td>\n",
       "    </tr>\n",
       "    <tr>\n",
       "      <th>1</th>\n",
       "      <td>2018</td>\n",
       "      <td>3</td>\n",
       "      <td>17.503</td>\n",
       "      <td>0.191</td>\n",
       "      <td>0.115</td>\n",
       "    </tr>\n",
       "    <tr>\n",
       "      <th>2</th>\n",
       "      <td>2018</td>\n",
       "      <td>2</td>\n",
       "      <td>16.256</td>\n",
       "      <td>0.220</td>\n",
       "      <td>0.084</td>\n",
       "    </tr>\n",
       "    <tr>\n",
       "      <th>3</th>\n",
       "      <td>2018</td>\n",
       "      <td>1</td>\n",
       "      <td>16.127</td>\n",
       "      <td>0.229</td>\n",
       "      <td>0.112</td>\n",
       "    </tr>\n",
       "    <tr>\n",
       "      <th>4</th>\n",
       "      <td>2017</td>\n",
       "      <td>4</td>\n",
       "      <td>15.823</td>\n",
       "      <td>0.163</td>\n",
       "      <td>0.207</td>\n",
       "    </tr>\n",
       "    <tr>\n",
       "      <th>5</th>\n",
       "      <td>2017</td>\n",
       "      <td>3</td>\n",
       "      <td>15.861</td>\n",
       "      <td>0.165</td>\n",
       "      <td>0.239</td>\n",
       "    </tr>\n",
       "    <tr>\n",
       "      <th>6</th>\n",
       "      <td>2017</td>\n",
       "      <td>2</td>\n",
       "      <td>15.536</td>\n",
       "      <td>0.204</td>\n",
       "      <td>0.252</td>\n",
       "    </tr>\n",
       "    <tr>\n",
       "      <th>7</th>\n",
       "      <td>2017</td>\n",
       "      <td>1</td>\n",
       "      <td>15.279</td>\n",
       "      <td>0.171</td>\n",
       "      <td>0.266</td>\n",
       "    </tr>\n",
       "    <tr>\n",
       "      <th>8</th>\n",
       "      <td>2016</td>\n",
       "      <td>4</td>\n",
       "      <td>14.469</td>\n",
       "      <td>0.168</td>\n",
       "      <td>0.187</td>\n",
       "    </tr>\n",
       "    <tr>\n",
       "      <th>9</th>\n",
       "      <td>2016</td>\n",
       "      <td>3</td>\n",
       "      <td>14.917</td>\n",
       "      <td>0.172</td>\n",
       "      <td>0.304</td>\n",
       "    </tr>\n",
       "    <tr>\n",
       "      <th>10</th>\n",
       "      <td>2016</td>\n",
       "      <td>2</td>\n",
       "      <td>14.689</td>\n",
       "      <td>0.208</td>\n",
       "      <td>0.219</td>\n",
       "    </tr>\n",
       "    <tr>\n",
       "      <th>11</th>\n",
       "      <td>2016</td>\n",
       "      <td>1</td>\n",
       "      <td>14.087</td>\n",
       "      <td>0.205</td>\n",
       "      <td>0.174</td>\n",
       "    </tr>\n",
       "    <tr>\n",
       "      <th>12</th>\n",
       "      <td>2015</td>\n",
       "      <td>4</td>\n",
       "      <td>14.689</td>\n",
       "      <td>0.177</td>\n",
       "      <td>0.246</td>\n",
       "    </tr>\n",
       "    <tr>\n",
       "      <th>13</th>\n",
       "      <td>2015</td>\n",
       "      <td>3</td>\n",
       "      <td>15.849</td>\n",
       "      <td>0.218</td>\n",
       "      <td>0.344</td>\n",
       "    </tr>\n",
       "    <tr>\n",
       "      <th>14</th>\n",
       "      <td>2015</td>\n",
       "      <td>2</td>\n",
       "      <td>15.813</td>\n",
       "      <td>0.175</td>\n",
       "      <td>0.204</td>\n",
       "    </tr>\n",
       "    <tr>\n",
       "      <th>15</th>\n",
       "      <td>2015</td>\n",
       "      <td>1</td>\n",
       "      <td>15.815</td>\n",
       "      <td>0.196</td>\n",
       "      <td>0.180</td>\n",
       "    </tr>\n",
       "    <tr>\n",
       "      <th>16</th>\n",
       "      <td>2014</td>\n",
       "      <td>4</td>\n",
       "      <td>15.674</td>\n",
       "      <td>0.126</td>\n",
       "      <td>0.173</td>\n",
       "    </tr>\n",
       "    <tr>\n",
       "      <th>17</th>\n",
       "      <td>2014</td>\n",
       "      <td>3</td>\n",
       "      <td>15.980</td>\n",
       "      <td>0.098</td>\n",
       "      <td>0.213</td>\n",
       "    </tr>\n",
       "    <tr>\n",
       "      <th>18</th>\n",
       "      <td>2014</td>\n",
       "      <td>2</td>\n",
       "      <td>16.694</td>\n",
       "      <td>0.144</td>\n",
       "      <td>0.157</td>\n",
       "    </tr>\n",
       "    <tr>\n",
       "      <th>19</th>\n",
       "      <td>2014</td>\n",
       "      <td>1</td>\n",
       "      <td>16.468</td>\n",
       "      <td>0.090</td>\n",
       "      <td>0.178</td>\n",
       "    </tr>\n",
       "  </tbody>\n",
       "</table>\n",
       "</div>"
      ],
      "text/plain": [
       "    Year  Quarter  Python      R  Julia\n",
       "0   2018        4  17.739  0.167  0.093\n",
       "1   2018        3  17.503  0.191  0.115\n",
       "2   2018        2  16.256  0.220  0.084\n",
       "3   2018        1  16.127  0.229  0.112\n",
       "4   2017        4  15.823  0.163  0.207\n",
       "5   2017        3  15.861  0.165  0.239\n",
       "6   2017        2  15.536  0.204  0.252\n",
       "7   2017        1  15.279  0.171  0.266\n",
       "8   2016        4  14.469  0.168  0.187\n",
       "9   2016        3  14.917  0.172  0.304\n",
       "10  2016        2  14.689  0.208  0.219\n",
       "11  2016        1  14.087  0.205  0.174\n",
       "12  2015        4  14.689  0.177  0.246\n",
       "13  2015        3  15.849  0.218  0.344\n",
       "14  2015        2  15.813  0.175  0.204\n",
       "15  2015        1  15.815  0.196  0.180\n",
       "16  2014        4  15.674  0.126  0.173\n",
       "17  2014        3  15.980  0.098  0.213\n",
       "18  2014        2  16.694  0.144  0.157\n",
       "19  2014        1  16.468  0.090  0.178"
      ]
     },
     "execution_count": 7,
     "metadata": {},
     "output_type": "execute_result"
    }
   ],
   "source": [
    "df = pd.read_csv('jstats.md')\n",
    "df"
   ]
  },
  {
   "cell_type": "code",
   "execution_count": 8,
   "metadata": {},
   "outputs": [
    {
     "data": {
      "text/plain": [
       "Index(['Year', 'Quarter', 'Python', 'R', 'Julia'], dtype='object')"
      ]
     },
     "execution_count": 8,
     "metadata": {},
     "output_type": "execute_result"
    }
   ],
   "source": [
    "df.columns"
   ]
  },
  {
   "cell_type": "code",
   "execution_count": 9,
   "metadata": {},
   "outputs": [
    {
     "data": {
      "text/plain": [
       "0     4.875\n",
       "1     4.625\n",
       "2     4.375\n",
       "3     4.125\n",
       "4     3.875\n",
       "5     3.625\n",
       "6     3.375\n",
       "7     3.125\n",
       "8     2.875\n",
       "9     2.625\n",
       "10    2.375\n",
       "11    2.125\n",
       "12    1.875\n",
       "13    1.625\n",
       "14    1.375\n",
       "15    1.125\n",
       "16    0.875\n",
       "17    0.625\n",
       "18    0.375\n",
       "19    0.125\n",
       "dtype: float64"
      ]
     },
     "execution_count": 9,
     "metadata": {},
     "output_type": "execute_result"
    }
   ],
   "source": [
    "year_since_2014 = df['Year'] - 2014 + (df['Quarter'] - 0.5) * 0.25\n",
    "year_since_2014"
   ]
  },
  {
   "cell_type": "code",
   "execution_count": 20,
   "metadata": {},
   "outputs": [
    {
     "data": {
      "text/plain": [
       "<matplotlib.legend.Legend at 0x1125a6e10>"
      ]
     },
     "execution_count": 20,
     "metadata": {},
     "output_type": "execute_result"
    },
    {
     "data": {
      "image/png": "[encoded data removed]",
      "text/plain": [
       "<Figure size 432x288 with 1 Axes>"
      ]
     },
     "metadata": {
      "needs_background": "light"
     },
     "output_type": "display_data"
    }
   ],
   "source": [
    "plt.plot(year_since_2014, df['Julia'], color='blue', label='Julia')\n",
    "plt.plot(year_since_2014, df['R'], color='red', label='R')\n",
    "plt.axis((0, 5, 0, max(df['Julia'])))\n",
    "plt.legend()"
   ]
  },
  {
   "cell_type": "code",
   "execution_count": null,
   "metadata": {},
   "outputs": [],
   "source": []
  }
 ],
 "metadata": {
  "jupytext": {
   "main_language": "python",
   "metadata_filter": {
    "notebook": {
     "additional": "all",
     "excluded": [
      "language_info"
     ]
    }
   },
   "text_representation": {
    "extension": ".Rmd",
    "format_name": "rmarkdown",
    "format_version": "1.0",
    "jupytext_version": "0.8.6"
   }
  },
  "kernelspec": {
   "display_name": "Python 3",
   "language": "python",
   "name": "python3"
  },
  "language_info": {
   "codemirror_mode": {
    "name": "ipython",
    "version": 3
   },
   "file_extension": ".py",
   "mimetype": "text/x-python",
   "name": "python",
   "nbconvert_exporter": "python",
   "pygments_lexer": "ipython3",
   "version": "3.7.3"
  }
 },
 "nbformat": 4,
 "nbformat_minor": 2
}
