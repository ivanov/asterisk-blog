{
 "cells": [
  {
   "cell_type": "code",
   "execution_count": 1,
   "metadata": {},
   "outputs": [],
   "source": [
    "from collections import Counter\n",
    "import datetime as dt\n",
    "import itertools\n",
    "\n",
    "import numpy as np\n",
    "\n",
    "%matplotlib inline\n",
    "import matplotlib.pyplot as plt\n",
    "import pandas as pd"
   ]
  },
  {
   "cell_type": "markdown",
   "metadata": {},
   "source": [
    "Thanks to Thomas Caswell for the following code on repository commits:\n",
    "\n",
    "https://gist.github.com/tacaswell/e95cb2d57ca3783ffc40"
   ]
  },
  {
   "cell_type": "markdown",
   "metadata": {},
   "source": [
    "Extract author + commit date from git from 2013-01-01 till now, for a local clone of https://github.com/JuliaLang/julia\n",
    "\n",
    "```\n",
    "echo 'time&name' > julia_commits.csv; \n",
    "git log --no-merges --since=2013-01-01 --pretty=format:'%at&%aN <%aE>' >> julia_commits.csv\n",
    "```\n",
    "\n",
    "The results are in [downloads/julia_commits.csv](../downloads/julia_commits.csv)."
   ]
  },
  {
   "cell_type": "code",
   "execution_count": 2,
   "metadata": {},
   "outputs": [
    {
     "data": {
      "text/html": [
       "<div>\n",
       "<style scoped>\n",
       "    .dataframe tbody tr th:only-of-type {\n",
       "        vertical-align: middle;\n",
       "    }\n",
       "\n",
       "    .dataframe tbody tr th {\n",
       "        vertical-align: top;\n",
       "    }\n",
       "\n",
       "    .dataframe thead th {\n",
       "        text-align: right;\n",
       "    }\n",
       "</style>\n",
       "<table border=\"1\" class=\"dataframe\">\n",
       "  <thead>\n",
       "    <tr style=\"text-align: right;\">\n",
       "      <th></th>\n",
       "      <th>time</th>\n",
       "      <th>name</th>\n",
       "    </tr>\n",
       "  </thead>\n",
       "  <tbody>\n",
       "    <tr>\n",
       "      <th>0</th>\n",
       "      <td>1554837475</td>\n",
       "      <td>Jeff Bezanson &lt;jeff.bezanson@gmail.com&gt;</td>\n",
       "    </tr>\n",
       "    <tr>\n",
       "      <th>1</th>\n",
       "      <td>1554823269</td>\n",
       "      <td>Dream Scatter &lt;18372368+chakravala@users.norep...</td>\n",
       "    </tr>\n",
       "    <tr>\n",
       "      <th>2</th>\n",
       "      <td>1554823066</td>\n",
       "      <td>Elliot Saba &lt;staticfloat@gmail.com&gt;</td>\n",
       "    </tr>\n",
       "    <tr>\n",
       "      <th>3</th>\n",
       "      <td>1554803115</td>\n",
       "      <td>Fredrik Ekre &lt;ekrefredrik@gmail.com&gt;</td>\n",
       "    </tr>\n",
       "    <tr>\n",
       "      <th>4</th>\n",
       "      <td>1554749412</td>\n",
       "      <td>Steven G. Johnson &lt;stevenj@alum.mit.edu&gt;</td>\n",
       "    </tr>\n",
       "  </tbody>\n",
       "</table>\n",
       "</div>"
      ],
      "text/plain": [
       "         time                                               name\n",
       "0  1554837475            Jeff Bezanson <jeff.bezanson@gmail.com>\n",
       "1  1554823269  Dream Scatter <18372368+chakravala@users.norep...\n",
       "2  1554823066                Elliot Saba <staticfloat@gmail.com>\n",
       "3  1554803115               Fredrik Ekre <ekrefredrik@gmail.com>\n",
       "4  1554749412           Steven G. Johnson <stevenj@alum.mit.edu>"
      ]
     },
     "execution_count": 2,
     "metadata": {},
     "output_type": "execute_result"
    }
   ],
   "source": [
    "commits = pd.read_csv('downloads/julia_commits.csv', sep='&')\n",
    "commits.head()"
   ]
  },
  {
   "cell_type": "code",
   "execution_count": 3,
   "metadata": {},
   "outputs": [
    {
     "data": {
      "image/png": "[encoded data removed]",
      "text/plain": [
       "<Figure size 432x288 with 1 Axes>"
      ]
     },
     "metadata": {
      "needs_background": "light"
     },
     "output_type": "display_data"
    }
   ],
   "source": [
    "commiters = Counter(commits['name'])\n",
    "commiter_number = list(range(len(commiters) + 1))\n",
    "c_count = list(commiters.values())\n",
    "cum_commits = np.r_[[0], np.cumsum(sorted(c_count, reverse=True))]\n",
    "\n",
    "fig, ax = plt.subplots()\n",
    "ax.step(commiter_number, cum_commits, where='post', color='k', lw=5)\n",
    "ax.tick_params(axis='y', direction='out')\n",
    "ax.tick_params(axis='x', direction='out')\n",
    "ax.set_xlim([0, max(commiter_number)])\n",
    "ax.set_ylim([0, np.sum(c_count)])\n",
    "ax.set_ylabel('cumulative commits')\n",
    "ax.set_xlabel('commiter #')\n",
    "ax.set_title(\"{} unique contributors from 2013-01-01 \".\n",
    "             format(max(commiter_number)-1));"
   ]
  },
  {
   "cell_type": "code",
   "execution_count": 4,
   "metadata": {},
   "outputs": [
    {
     "data": {
      "image/png": "[encoded data removed]",
      "text/plain": [
       "<Figure size 432x288 with 2 Axes>"
      ]
     },
     "metadata": {
      "needs_background": "light"
     },
     "output_type": "display_data"
    }
   ],
   "source": [
    "def stats_plotter(ax, left_edges, unq_by_week, col, ylabel):\n",
    "    ln, = ax.step(left_edges,\n",
    "                  unq_by_week[col], color='k', where='post', lw=2)\n",
    "\n",
    "    hln = ax.axhline(unq_by_week[col].mean(), color='forestgreen', zorder=0, lw=2)\n",
    "    ax.set_ylabel(ylabel)\n",
    "    return ln, hln\n",
    "\n",
    "\n",
    "def by_window_binner(ax1, ax2, commits, start, stop, step, window_name):\n",
    "    edges = np.arange(start, stop + step, step)\n",
    "    left_edges = [dt.datetime.fromtimestamp(t) for t in edges[:-1]]\n",
    "\n",
    "    gb = commits.groupby(pd.cut(commits['time'], edges))\n",
    "    unq_by_bin = gb.agg(lambda x: len(set(x)))\n",
    "    \n",
    "    stats_plotter(ax1, left_edges, unq_by_bin, 'time', 'commits per {}'.format(window_name))\n",
    "    stats_plotter(ax2, left_edges, unq_by_bin, 'name', 'committers per {}'.format(window_name))\n",
    "\n",
    "start = dt.datetime(2013, 1, 1).timestamp()\n",
    "stop  = dt.datetime.now().timestamp()\n",
    "\n",
    "fig, (ax1, ax2) = plt.subplots(2, 1, sharex=True)\n",
    "by_window_binner(ax1, ax2, commits, start, stop, 7*24*60*60, 'week')\n",
    "ax1.set_xlim((dt.datetime(2013, 1, 1), dt.datetime(2019, 4, 10)))\n",
    "fig.autofmt_xdate()"
   ]
  },
  {
   "cell_type": "markdown",
   "metadata": {},
   "source": [
    "These are the [TIOBE language index ratings](https://www.tiobe.com/tiobe-index) for Julia, recovered from <www.archive.org>.\n",
    "\n",
    "> The ratings are based on the number of skilled engineers world-wide, courses and third party vendors. Popular search engines such as Google, Bing, Yahoo!, Wikipedia, Amazon, YouTube and Baidu are used to calculate the ratings\n",
    "\n",
    "Get the data file from [downloads/julia_tiobe.csv](../downloads/julia_tiobe.csv)"
   ]
  },
  {
   "cell_type": "code",
   "execution_count": 5,
   "metadata": {},
   "outputs": [
    {
     "data": {
      "text/html": [
       "<div>\n",
       "<style scoped>\n",
       "    .dataframe tbody tr th:only-of-type {\n",
       "        vertical-align: middle;\n",
       "    }\n",
       "\n",
       "    .dataframe tbody tr th {\n",
       "        vertical-align: top;\n",
       "    }\n",
       "\n",
       "    .dataframe thead th {\n",
       "        text-align: right;\n",
       "    }\n",
       "</style>\n",
       "<table border=\"1\" class=\"dataframe\">\n",
       "  <thead>\n",
       "    <tr style=\"text-align: right;\">\n",
       "      <th></th>\n",
       "      <th>year_month</th>\n",
       "      <th>pct</th>\n",
       "    </tr>\n",
       "  </thead>\n",
       "  <tbody>\n",
       "    <tr>\n",
       "      <th>0</th>\n",
       "      <td>2017-1</td>\n",
       "      <td>&lt;0.207</td>\n",
       "    </tr>\n",
       "    <tr>\n",
       "      <th>1</th>\n",
       "      <td>2017-2</td>\n",
       "      <td>&lt;0.236</td>\n",
       "    </tr>\n",
       "    <tr>\n",
       "      <th>2</th>\n",
       "      <td>2017-3</td>\n",
       "      <td>0.320</td>\n",
       "    </tr>\n",
       "    <tr>\n",
       "      <th>3</th>\n",
       "      <td>2017-4</td>\n",
       "      <td>&lt;0.258</td>\n",
       "    </tr>\n",
       "    <tr>\n",
       "      <th>4</th>\n",
       "      <td>2017-5</td>\n",
       "      <td>&lt;0.277</td>\n",
       "    </tr>\n",
       "  </tbody>\n",
       "</table>\n",
       "</div>"
      ],
      "text/plain": [
       "  year_month      pct\n",
       "0     2017-1   <0.207\n",
       "1     2017-2   <0.236\n",
       "2     2017-3    0.320\n",
       "3     2017-4   <0.258\n",
       "4     2017-5   <0.277"
      ]
     },
     "execution_count": 5,
     "metadata": {},
     "output_type": "execute_result"
    }
   ],
   "source": [
    "julia_tiobe = pd.read_csv('downloads/julia_tiobe.csv')\n",
    "julia_tiobe.head()"
   ]
  },
  {
   "cell_type": "code",
   "execution_count": 6,
   "metadata": {},
   "outputs": [
    {
     "data": {
      "text/html": [
       "<div>\n",
       "<style scoped>\n",
       "    .dataframe tbody tr th:only-of-type {\n",
       "        vertical-align: middle;\n",
       "    }\n",
       "\n",
       "    .dataframe tbody tr th {\n",
       "        vertical-align: top;\n",
       "    }\n",
       "\n",
       "    .dataframe thead th {\n",
       "        text-align: right;\n",
       "    }\n",
       "</style>\n",
       "<table border=\"1\" class=\"dataframe\">\n",
       "  <thead>\n",
       "    <tr style=\"text-align: right;\">\n",
       "      <th></th>\n",
       "      <th>year_month</th>\n",
       "      <th>pct</th>\n",
       "      <th>below</th>\n",
       "    </tr>\n",
       "  </thead>\n",
       "  <tbody>\n",
       "    <tr>\n",
       "      <th>0</th>\n",
       "      <td>2017-1</td>\n",
       "      <td>&lt;0.207</td>\n",
       "      <td>True</td>\n",
       "    </tr>\n",
       "    <tr>\n",
       "      <th>1</th>\n",
       "      <td>2017-2</td>\n",
       "      <td>&lt;0.236</td>\n",
       "      <td>True</td>\n",
       "    </tr>\n",
       "    <tr>\n",
       "      <th>2</th>\n",
       "      <td>2017-3</td>\n",
       "      <td>0.320</td>\n",
       "      <td>False</td>\n",
       "    </tr>\n",
       "    <tr>\n",
       "      <th>3</th>\n",
       "      <td>2017-4</td>\n",
       "      <td>&lt;0.258</td>\n",
       "      <td>True</td>\n",
       "    </tr>\n",
       "    <tr>\n",
       "      <th>4</th>\n",
       "      <td>2017-5</td>\n",
       "      <td>&lt;0.277</td>\n",
       "      <td>True</td>\n",
       "    </tr>\n",
       "  </tbody>\n",
       "</table>\n",
       "</div>"
      ],
      "text/plain": [
       "  year_month     pct  below\n",
       "0     2017-1  <0.207   True\n",
       "1     2017-2  <0.236   True\n",
       "2     2017-3   0.320  False\n",
       "3     2017-4  <0.258   True\n",
       "4     2017-5  <0.277   True"
      ]
     },
     "execution_count": 6,
     "metadata": {},
     "output_type": "execute_result"
    }
   ],
   "source": [
    "julia_tiobe['pct'] = julia_tiobe['pct'].apply(lambda x : x.strip())\n",
    "julia_tiobe['below'] = julia_tiobe['pct'].apply(lambda x : x.startswith('<'))\n",
    "julia_tiobe.head()"
   ]
  },
  {
   "cell_type": "code",
   "execution_count": 7,
   "metadata": {},
   "outputs": [],
   "source": [
    "def recode_pct(val):\n",
    "    if val.startswith('<'):\n",
    "        val = val[1:]\n",
    "    return float(val)"
   ]
  },
  {
   "cell_type": "code",
   "execution_count": 8,
   "metadata": {},
   "outputs": [
    {
     "data": {
      "text/html": [
       "<div>\n",
       "<style scoped>\n",
       "    .dataframe tbody tr th:only-of-type {\n",
       "        vertical-align: middle;\n",
       "    }\n",
       "\n",
       "    .dataframe tbody tr th {\n",
       "        vertical-align: top;\n",
       "    }\n",
       "\n",
       "    .dataframe thead th {\n",
       "        text-align: right;\n",
       "    }\n",
       "</style>\n",
       "<table border=\"1\" class=\"dataframe\">\n",
       "  <thead>\n",
       "    <tr style=\"text-align: right;\">\n",
       "      <th></th>\n",
       "      <th>year_month</th>\n",
       "      <th>pct</th>\n",
       "      <th>below</th>\n",
       "      <th>pct_val</th>\n",
       "      <th>dt</th>\n",
       "    </tr>\n",
       "  </thead>\n",
       "  <tbody>\n",
       "    <tr>\n",
       "      <th>0</th>\n",
       "      <td>2017-1</td>\n",
       "      <td>&lt;0.207</td>\n",
       "      <td>True</td>\n",
       "      <td>0.207</td>\n",
       "      <td>2017-01-01</td>\n",
       "    </tr>\n",
       "    <tr>\n",
       "      <th>1</th>\n",
       "      <td>2017-2</td>\n",
       "      <td>&lt;0.236</td>\n",
       "      <td>True</td>\n",
       "      <td>0.236</td>\n",
       "      <td>2017-02-01</td>\n",
       "    </tr>\n",
       "    <tr>\n",
       "      <th>2</th>\n",
       "      <td>2017-3</td>\n",
       "      <td>0.320</td>\n",
       "      <td>False</td>\n",
       "      <td>0.320</td>\n",
       "      <td>2017-03-01</td>\n",
       "    </tr>\n",
       "    <tr>\n",
       "      <th>3</th>\n",
       "      <td>2017-4</td>\n",
       "      <td>&lt;0.258</td>\n",
       "      <td>True</td>\n",
       "      <td>0.258</td>\n",
       "      <td>2017-04-01</td>\n",
       "    </tr>\n",
       "    <tr>\n",
       "      <th>4</th>\n",
       "      <td>2017-5</td>\n",
       "      <td>&lt;0.277</td>\n",
       "      <td>True</td>\n",
       "      <td>0.277</td>\n",
       "      <td>2017-05-01</td>\n",
       "    </tr>\n",
       "  </tbody>\n",
       "</table>\n",
       "</div>"
      ],
      "text/plain": [
       "  year_month     pct  below  pct_val         dt\n",
       "0     2017-1  <0.207   True    0.207 2017-01-01\n",
       "1     2017-2  <0.236   True    0.236 2017-02-01\n",
       "2     2017-3   0.320  False    0.320 2017-03-01\n",
       "3     2017-4  <0.258   True    0.258 2017-04-01\n",
       "4     2017-5  <0.277   True    0.277 2017-05-01"
      ]
     },
     "execution_count": 8,
     "metadata": {},
     "output_type": "execute_result"
    }
   ],
   "source": [
    "julia_tiobe['pct_val'] = julia_tiobe['pct'].apply(recode_pct)\n",
    "julia_tiobe['dt'] = pd.to_datetime(julia_tiobe['year_month'])\n",
    "julia_tiobe.head()"
   ]
  },
  {
   "cell_type": "code",
   "execution_count": 9,
   "metadata": {},
   "outputs": [
    {
     "data": {
      "image/png": "[encoded data removed]",
      "text/plain": [
       "<Figure size 432x288 with 1 Axes>"
      ]
     },
     "metadata": {
      "needs_background": "light"
     },
     "output_type": "display_data"
    }
   ],
   "source": [
    "ax = julia_tiobe.plot('dt', 'pct_val')\n",
    "belows = julia_tiobe[julia_tiobe['below']]\n",
    "belows.plot('dt', 'pct_val', style='o', label='below 50th position', ax=ax)\n",
    "plt.title('Julia % score in TIOBE index')\n",
    "plt.xlabel('Date');"
   ]
  },
  {
   "cell_type": "markdown",
   "metadata": {},
   "source": [
    "Finally, the percentage of Julia pull requests, in all pull requests on Github.  [These data](../downloads/julia_gh_prs.csv) scraped by hand from <https://madnight.github.io/githut>."
   ]
  },
  {
   "cell_type": "code",
   "execution_count": 10,
   "metadata": {},
   "outputs": [
    {
     "data": {
      "text/html": [
       "<div>\n",
       "<style scoped>\n",
       "    .dataframe tbody tr th:only-of-type {\n",
       "        vertical-align: middle;\n",
       "    }\n",
       "\n",
       "    .dataframe tbody tr th {\n",
       "        vertical-align: top;\n",
       "    }\n",
       "\n",
       "    .dataframe thead th {\n",
       "        text-align: right;\n",
       "    }\n",
       "</style>\n",
       "<table border=\"1\" class=\"dataframe\">\n",
       "  <thead>\n",
       "    <tr style=\"text-align: right;\">\n",
       "      <th></th>\n",
       "      <th>Year</th>\n",
       "      <th>Quarter</th>\n",
       "      <th>Python</th>\n",
       "      <th>R</th>\n",
       "      <th>Julia</th>\n",
       "    </tr>\n",
       "  </thead>\n",
       "  <tbody>\n",
       "    <tr>\n",
       "      <th>0</th>\n",
       "      <td>2018</td>\n",
       "      <td>4</td>\n",
       "      <td>17.739</td>\n",
       "      <td>0.167</td>\n",
       "      <td>0.093</td>\n",
       "    </tr>\n",
       "    <tr>\n",
       "      <th>1</th>\n",
       "      <td>2018</td>\n",
       "      <td>3</td>\n",
       "      <td>17.503</td>\n",
       "      <td>0.191</td>\n",
       "      <td>0.115</td>\n",
       "    </tr>\n",
       "    <tr>\n",
       "      <th>2</th>\n",
       "      <td>2018</td>\n",
       "      <td>2</td>\n",
       "      <td>16.256</td>\n",
       "      <td>0.220</td>\n",
       "      <td>0.084</td>\n",
       "    </tr>\n",
       "    <tr>\n",
       "      <th>3</th>\n",
       "      <td>2018</td>\n",
       "      <td>1</td>\n",
       "      <td>16.127</td>\n",
       "      <td>0.229</td>\n",
       "      <td>0.112</td>\n",
       "    </tr>\n",
       "    <tr>\n",
       "      <th>4</th>\n",
       "      <td>2017</td>\n",
       "      <td>4</td>\n",
       "      <td>15.823</td>\n",
       "      <td>0.163</td>\n",
       "      <td>0.207</td>\n",
       "    </tr>\n",
       "  </tbody>\n",
       "</table>\n",
       "</div>"
      ],
      "text/plain": [
       "   Year  Quarter  Python      R  Julia\n",
       "0  2018        4  17.739  0.167  0.093\n",
       "1  2018        3  17.503  0.191  0.115\n",
       "2  2018        2  16.256  0.220  0.084\n",
       "3  2018        1  16.127  0.229  0.112\n",
       "4  2017        4  15.823  0.163  0.207"
      ]
     },
     "execution_count": 10,
     "metadata": {},
     "output_type": "execute_result"
    }
   ],
   "source": [
    "julia_prs = pd.read_csv('downloads/julia_gh_prs.csv')\n",
    "julia_prs.head()"
   ]
  },
  {
   "cell_type": "code",
   "execution_count": 11,
   "metadata": {},
   "outputs": [
    {
     "data": {
      "text/html": [
       "<div>\n",
       "<style scoped>\n",
       "    .dataframe tbody tr th:only-of-type {\n",
       "        vertical-align: middle;\n",
       "    }\n",
       "\n",
       "    .dataframe tbody tr th {\n",
       "        vertical-align: top;\n",
       "    }\n",
       "\n",
       "    .dataframe thead th {\n",
       "        text-align: right;\n",
       "    }\n",
       "</style>\n",
       "<table border=\"1\" class=\"dataframe\">\n",
       "  <thead>\n",
       "    <tr style=\"text-align: right;\">\n",
       "      <th></th>\n",
       "      <th>Year</th>\n",
       "      <th>Quarter</th>\n",
       "      <th>Python</th>\n",
       "      <th>R</th>\n",
       "      <th>Julia</th>\n",
       "      <th>Month</th>\n",
       "      <th>Date</th>\n",
       "    </tr>\n",
       "  </thead>\n",
       "  <tbody>\n",
       "    <tr>\n",
       "      <th>0</th>\n",
       "      <td>2018</td>\n",
       "      <td>4</td>\n",
       "      <td>17.739</td>\n",
       "      <td>0.167</td>\n",
       "      <td>0.093</td>\n",
       "      <td>11</td>\n",
       "      <td>2018-11-01</td>\n",
       "    </tr>\n",
       "    <tr>\n",
       "      <th>1</th>\n",
       "      <td>2018</td>\n",
       "      <td>3</td>\n",
       "      <td>17.503</td>\n",
       "      <td>0.191</td>\n",
       "      <td>0.115</td>\n",
       "      <td>8</td>\n",
       "      <td>2018-08-01</td>\n",
       "    </tr>\n",
       "    <tr>\n",
       "      <th>2</th>\n",
       "      <td>2018</td>\n",
       "      <td>2</td>\n",
       "      <td>16.256</td>\n",
       "      <td>0.220</td>\n",
       "      <td>0.084</td>\n",
       "      <td>5</td>\n",
       "      <td>2018-05-01</td>\n",
       "    </tr>\n",
       "    <tr>\n",
       "      <th>3</th>\n",
       "      <td>2018</td>\n",
       "      <td>1</td>\n",
       "      <td>16.127</td>\n",
       "      <td>0.229</td>\n",
       "      <td>0.112</td>\n",
       "      <td>2</td>\n",
       "      <td>2018-02-01</td>\n",
       "    </tr>\n",
       "    <tr>\n",
       "      <th>4</th>\n",
       "      <td>2017</td>\n",
       "      <td>4</td>\n",
       "      <td>15.823</td>\n",
       "      <td>0.163</td>\n",
       "      <td>0.207</td>\n",
       "      <td>11</td>\n",
       "      <td>2017-11-01</td>\n",
       "    </tr>\n",
       "  </tbody>\n",
       "</table>\n",
       "</div>"
      ],
      "text/plain": [
       "   Year  Quarter  Python      R  Julia  Month       Date\n",
       "0  2018        4  17.739  0.167  0.093     11 2018-11-01\n",
       "1  2018        3  17.503  0.191  0.115      8 2018-08-01\n",
       "2  2018        2  16.256  0.220  0.084      5 2018-05-01\n",
       "3  2018        1  16.127  0.229  0.112      2 2018-02-01\n",
       "4  2017        4  15.823  0.163  0.207     11 2017-11-01"
      ]
     },
     "execution_count": 11,
     "metadata": {},
     "output_type": "execute_result"
    }
   ],
   "source": [
    "julia_prs['Month'] = (julia_prs['Quarter'] - 1) * 3 + 2\n",
    "datish = julia_prs.apply(\n",
    "    lambda x: f\"{x['Year']:0.0f}-{x['Month']:0.0f}\", axis=1)\n",
    "julia_prs['Date'] = pd.to_datetime(datish)\n",
    "julia_prs.head()"
   ]
  },
  {
   "cell_type": "code",
   "execution_count": 12,
   "metadata": {},
   "outputs": [
    {
     "data": {
      "image/png": "[encoded data removed]",
      "text/plain": [
       "<Figure size 432x288 with 1 Axes>"
      ]
     },
     "metadata": {
      "needs_background": "light"
     },
     "output_type": "display_data"
    }
   ],
   "source": [
    "julia_prs.plot('Date', 'Julia')\n",
    "plt.title(\"Julia PRs as percentage of all Github PRS\");"
   ]
  },
  {
   "cell_type": "markdown",
   "metadata": {},
   "source": [
    "[Redmonk index](https://redmonk.com/sogrady/category/programming-languages) positions.  Slightly guessed from figures in the text.\n",
    "\n",
    "| Year | Quarter | Position |\n",
    "|------|---------|----------|\n",
    "| 2018 | 4       | 34       |\n",
    "| 2018 | 2       | 36       |\n",
    "| 2018 | 1       | 39       |\n",
    "| 2017 | 4       | 40       |\n",
    "| 2017 | 3       | 52       |"
   ]
  }
 ],
 "metadata": {
  "jupytext": {
   "split_at_heading": true
  },
  "kernelspec": {
   "display_name": "Python 3",
   "language": "python",
   "name": "python3"
  },
  "language_info": {
   "codemirror_mode": {
    "name": "ipython",
    "version": 3
   },
   "file_extension": ".py",
   "mimetype": "text/x-python",
   "name": "python",
   "nbconvert_exporter": "python",
   "pygments_lexer": "ipython3",
   "version": "3.7.2"
  }
 },
 "nbformat": 4,
 "nbformat_minor": 2
}
